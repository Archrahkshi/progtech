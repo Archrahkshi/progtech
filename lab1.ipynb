{
 "cells": [
  {
   "cell_type": "markdown",
   "metadata": {},
   "source": [
    "# Лабораторная работа №1. Алгоритмы сортировок\n",
    "## Вариант 15. Сортировки: выбором, шейкер, быстрая"
   ]
  },
  {
   "cell_type": "code",
   "execution_count": 1,
   "metadata": {},
   "outputs": [],
   "source": [
    "sizes = (100, 500, 1000, 5000, 10000, 50000, 100000)   # Размеры баз данных"
   ]
  },
  {
   "cell_type": "markdown",
   "metadata": {},
   "source": [
    "### 1. Генератор"
   ]
  },
  {
   "cell_type": "code",
   "execution_count": 44,
   "metadata": {},
   "outputs": [
    {
     "name": "stdout",
     "output_type": "stream",
     "text": [
      "Размер = 100: готово\n",
      "Размер = 500: готово\n",
      "Размер = 1000: готово\n",
      "Размер = 5000: готово\n",
      "Размер = 10000: готово\n",
      "Размер = 50000: готово\n",
      "Размер = 100000: готово\n"
     ]
    }
   ],
   "source": [
    "from faker import Faker\n",
    "import numpy.random as npr\n",
    "Faker.seed(0)\n",
    "npr.seed(0)\n",
    "fake = Faker('ru_RU')\n",
    "\n",
    "for size in sizes:\n",
    "    with open(f'databases/db{size}.txt', 'w') as file:\n",
    "        for _ in range(size):\n",
    "            file.write('{} {} {} {} {} {} {} {} {} {}\\n'.format(\n",
    "                fake.last_name_male(), \n",
    "                fake.first_name_male(), \n",
    "                fake.middle_name_male(), \n",
    "                str(fake.date_of_birth(minimum_age=25, maximum_age=35)), \n",
    "                fake.last_name_female(), \n",
    "                fake.first_name_female(), \n",
    "                fake.middle_name_female(), \n",
    "                str(fake.date_of_birth(minimum_age=25, maximum_age=35)), \n",
    "                str(fake.date_this_decade()),\n",
    "                str(npr.randint(1, 1000))\n",
    "            ))\n",
    "        print(f'Размер = {size}: готово')"
   ]
  },
  {
   "cell_type": "markdown",
   "metadata": {},
   "source": [
    "### 2. Класс и перегрузка операторов"
   ]
  },
  {
   "cell_type": "code",
   "execution_count": 2,
   "metadata": {},
   "outputs": [],
   "source": [
    "from dataclasses import dataclass\n",
    "\n",
    "@dataclass(eq=False)\n",
    "class Marriage:\n",
    "    groomName: str\n",
    "    groomBirthday: str\n",
    "    brideName: str\n",
    "    brideBirthday: str\n",
    "    marriageDate: str\n",
    "    registryNumber: str\n",
    "        \n",
    "    def __gt__(self, other):\n",
    "        if int(self.registryNumber) > int(other.registryNumber):\n",
    "            return True\n",
    "        elif int(self.registryNumber) == int(other.registryNumber):\n",
    "            if self.marriageDate > other.marriageDate:\n",
    "                return True\n",
    "            elif self.marriageDate == other.marriageDate:\n",
    "                if self.groomName > other.groomName:\n",
    "                    return True\n",
    "        return False\n",
    "        \n",
    "    def __lt__(self, other):\n",
    "        if int(self.registryNumber) < int(other.registryNumber):\n",
    "            return True\n",
    "        elif int(self.registryNumber) == int(other.registryNumber):\n",
    "            if self.marriageDate < other.marriageDate:\n",
    "                return True\n",
    "            elif self.marriageDate == other.marriageDate:\n",
    "                if self.groomName < other.groomName:\n",
    "                    return True\n",
    "        return False\n",
    "    \n",
    "    def __ge__(self, other):\n",
    "        if int(self.registryNumber) >= int(other.registryNumber):\n",
    "            return True\n",
    "        elif int(self.registryNumber) == int(other.registryNumber):\n",
    "            if self.marriageDate >= other.marriageDate:\n",
    "                return True\n",
    "            elif self.marriageDate == other.marriageDate:\n",
    "                if self.groomName >= other.groomName:\n",
    "                    return True\n",
    "        return False\n",
    "        \n",
    "    def __le__(self, other):\n",
    "        if int(self.registryNumber) <= int(other.registryNumber):\n",
    "            return True\n",
    "        elif int(self.registryNumber) == int(other.registryNumber):\n",
    "            if self.marriageDate <= other.marriageDate:\n",
    "                return True\n",
    "            elif self.marriageDate == other.marriageDate:\n",
    "                if self.groomName <= other.groomName:\n",
    "                    return True\n",
    "        return False"
   ]
  },
  {
   "cell_type": "markdown",
   "metadata": {},
   "source": [
    "### 3. Создание неотсортированных массивов объектов"
   ]
  },
  {
   "cell_type": "code",
   "execution_count": 3,
   "metadata": {},
   "outputs": [],
   "source": [
    "import numpy as np\n",
    "\n",
    "marriages = np.empty(len(sizes), dtype=np.ndarray)\n",
    "for i, size in enumerate(sizes):\n",
    "    with open(f'databases/db{size}.txt') as db:\n",
    "        marriages[i] = np.empty(size, dtype=Marriage)\n",
    "        for j, string in enumerate(db.read()[:-1].split('\\n')):\n",
    "            data = string.split()\n",
    "            marriages[i][j] = Marriage(\n",
    "                groomName = ' '.join(data[:3]),\n",
    "                groomBirthday = data[3],\n",
    "                brideName = ' '.join(data[4:7]),\n",
    "                brideBirthday = data[7],\n",
    "                marriageDate = data[8],\n",
    "                registryNumber = data[9]\n",
    "            )"
   ]
  },
  {
   "cell_type": "markdown",
   "metadata": {},
   "source": [
    "### 4. Алгоритмы сортировок"
   ]
  },
  {
   "cell_type": "code",
   "execution_count": 13,
   "metadata": {},
   "outputs": [],
   "source": [
    "def selectionSort(data):                    # Сортировка выбором:\n",
    "    for i in range(len(data)):                  # Берём ещё не отсортированный подмассив:\n",
    "        minValue = np.min(data[i:])                 # Находим минимальный элемент\n",
    "        minIndex = np.where(data[i:]==minValue)[0]  # Находим индекс минимального элемента\n",
    "        data[i+minIndex] = data[i]                  # Заменяем элемент по этому индексу на первый элемент\n",
    "        data[i] = minValue                          # Заменяем первый элемент на минимальный элемент\n",
    "    return data                                 # Возвращаем отсортированный массив\n",
    "\n",
    "def shakerSort(data):                   # Шейкер-сортировка:\n",
    "    for i in range(len(data)-1, 0, -1):     # Проходим по массиву справа налево:\n",
    "        swapped = False                         # Сбрасываем флаг\n",
    "        for j in range(i, 0, -1):               # Идём по индексам справа налево:\n",
    "            if data[j] < data[j-1]:                 # Если элемент по данному индексу меньше предыдущего:\n",
    "                data[j], data[j-1] = data[j-1], data[j] # Меняем их местами\n",
    "                swapped = True                          # Запоминаем, что элементы менялись местами\n",
    "        for j in range(i):                      # Идём по индексам слева направо:\n",
    "            if data[j] > data[j+1]:                 # Если элемент по данному индексу больше следующего:\n",
    "                data[j], data[j+1] = data[j+1], data[j] # Меняем их местами\n",
    "                swapped = True                          # Запоминаем, что элементы менялись местами\n",
    "        if not swapped:                         # Если никакие элементы не менялись местами:\n",
    "            return data                             # Возвращаем отсортированный массив\n",
    "\n",
    "def quickSort(data):                    # Быстрая сортировка:\n",
    "    less, pivotList, more = [], [], []      # Выделяем в списке три части: левую, опорные элементы, правую\n",
    "    if len(data) <= 1:                      # Если длина массива меньше либо равна единице:\n",
    "        return data                             # Возвращаем его же\n",
    "    else:                                   # Иначе:\n",
    "        pivot = data[0]                         # Задаём опорный элемент\n",
    "        for i in data:                      # Движемся по массиву:\n",
    "            if i < pivot:                           # Если элемент меньше опорного:\n",
    "                less.append(i)                          # Добавляем этот элемент в левую часть\n",
    "            elif i > pivot:                         # Если элемент больше опорного:\n",
    "                more.append(i)                          # Добавляем этот элемент в правую часть\n",
    "            else:                                   # Иначе:\n",
    "                pivotList.append(i)                     # Добавляем этот элемент в список опорных\n",
    "        less = quickSort(less)                  # Рекурсивно применяем алгоритм к левой части\n",
    "        more = quickSort(more)                  #                               и к правой части\n",
    "        return less + pivotList + more          # Возвращаем левую часть + опорные элементы + правую часть"
   ]
  },
  {
   "cell_type": "markdown",
   "metadata": {},
   "source": [
    "### 5. Сортировка массивов"
   ]
  },
  {
   "cell_type": "code",
   "execution_count": 17,
   "metadata": {},
   "outputs": [
    {
     "name": "stdout",
     "output_type": "stream",
     "text": [
      "Размер: 100\t\tСортировка: selection\t\tВремя работы: 0:00:00.006102\n",
      "Размер: 100\t\tСортировка: shaker\t\tВремя работы: 0:00:00.001811\n",
      "Размер: 100\t\tСортировка: quick\t\tВремя работы: 0:00:00.010090\n",
      "Размер: 500\t\tСортировка: selection\t\tВремя работы: 0:00:00.086768\n",
      "Размер: 500\t\tСортировка: shaker\t\tВремя работы: 0:00:00.003794\n",
      "Размер: 500\t\tСортировка: quick\t\tВремя работы: 0:00:00.159357\n",
      "Размер: 1000\t\tСортировка: selection\t\tВремя работы: 0:00:00.284016\n",
      "Размер: 1000\t\tСортировка: shaker\t\tВремя работы: 0:00:00.010003\n",
      "Размер: 1000\t\tСортировка: quick\t\tВремя работы: 0:00:00.644308\n",
      "Размер: 5000\t\tСортировка: selection\t\tВремя работы: 0:00:07.444522\n",
      "Размер: 5000\t\tСортировка: shaker\t\tВремя работы: 0:00:05.963231\n",
      "Размер: 5000\t\tСортировка: quick\t\tВремя работы: 0:00:10.656302\n",
      "Размер: 10000\t\tСортировка: quick\t\tВремя работы: 0:00:06.899896\n",
      "Размер: 10000\t\tСортировка: selection\t\tВремя работы: 0:00:37.633140\n",
      "Размер: 10000\t\tСортировка: shaker\t\tВремя работы: 0:00:37.203324\n",
      "Размер: 50000\t\tСортировка: quick\t\tВремя работы: 0:00:05.595094\n",
      "Размер: 50000\t\tСортировка: shaker\t\tВремя работы: 0:27:49.591445\n",
      "Размер: 50000\t\tСортировка: selection\t\tВремя работы: 0:28:43.015049\n",
      "Размер: 100000\t\tСортировка: quick\t\tВремя работы: 0:00:10.370650\n",
      "Размер: 100000\t\tСортировка: shaker\t\tВремя работы: 2:01:44.523400\n",
      "Размер: 100000\t\tСортировка: selection\t\tВремя работы: 2:07:18.965574\n"
     ]
    }
   ],
   "source": [
    "from datetime import datetime\n",
    "from threading import Thread\n",
    "from time import sleep\n",
    "\n",
    "for i, size in enumerate(sizes):\n",
    "    marriagesCopy = marriages[i].copy()\n",
    "    def sortAndOutput(algorithm):\n",
    "        startTime = datetime.now()\n",
    "        if algorithm == 'selection':\n",
    "            marriagesSorted = selectionSort(marriagesCopy)\n",
    "        if algorithm == 'shaker':\n",
    "            marriagesSorted = shakerSort(marriagesCopy)\n",
    "        if algorithm == 'quick':\n",
    "            marriagesSorted = quickSort(marriagesCopy)\n",
    "        with open(f'{algorithm}/{algorithm}{size}.txt', 'w') as file:\n",
    "            file.write('\\n'.join(map(' '.join, map(lambda e: e.__dict__.values(), marriagesSorted))))\n",
    "        print(f'Размер: {size}\\t\\tСортировка: {algorithm}\\t\\tВремя работы: {datetime.now()-startTime}')\n",
    "        \n",
    "    thread1 = Thread(target=sortAndOutput, args=('selection',))\n",
    "    thread2 = Thread(target=sortAndOutput, args=('shaker',))\n",
    "    thread3 = Thread(target=sortAndOutput, args=('quick',))\n",
    "    thread1.start()\n",
    "    sleep(.5)\n",
    "    thread2.start()\n",
    "    sleep(.5)\n",
    "    thread3.start()\n",
    "    sleep(.5)\n",
    "    thread1.join()\n",
    "    thread2.join()\n",
    "    thread3.join()"
   ]
  },
  {
   "cell_type": "code",
   "execution_count": 40,
   "metadata": {},
   "outputs": [
    {
     "data": {
      "image/png": "[encoded data removed]",
      "text/plain": [
       "<Figure size 1152x648 with 1 Axes>"
      ]
     },
     "metadata": {
      "needs_background": "dark"
     },
     "output_type": "display_data"
    }
   ],
   "source": [
    "from matplotlib import pyplot as plt\n",
    "plt.rc(('xtick', 'ytick'), color='white')\n",
    "\n",
    "x = (100, 500, 1000, 5000, 10000, 50000, 100000)\n",
    "y1 = (0.001, 0.001, 0.001, 7.001, 6.001, 5.001, 10.001)\n",
    "y2 = (0.001, 0.001, 0.001, 5.001, 37.001, 1669., 7304.)\n",
    "y3 = (0.001, 0.001, 0.001, 10.001, 37.001, 1723., 7638.)\n",
    "plt.figure(figsize=(16, 9))\n",
    "plt.grid()\n",
    "plt.loglog(x, y1, label='Быстрая')\n",
    "plt.loglog(x, y2, label='Шейкер')\n",
    "plt.loglog(x, y3, label='Выбором')\n",
    "plt.legend(fontsize=16)\n",
    "plt.show()"
   ]
  },
  {
   "cell_type": "markdown",
   "metadata": {},
   "source": [
    "Из графика следует, что из рассмотренных трёх алгоритмов быстрая сортировка наиболее оптимальна для больших объёмов данных (>5000 элементов). Для меньших объёмов данных существенной разницы между алгоритмами нет."
   ]
  }
 ],
 "metadata": {
  "kernelspec": {
   "display_name": "Python 3",
   "language": "python",
   "name": "python3"
  },
  "language_info": {
   "codemirror_mode": {
    "name": "ipython",
    "version": 3
   },
   "file_extension": ".py",
   "mimetype": "text/x-python",
   "name": "python",
   "nbconvert_exporter": "python",
   "pygments_lexer": "ipython3",
   "version": "3.7.3"
  }
 },
 "nbformat": 4,
 "nbformat_minor": 2
}
